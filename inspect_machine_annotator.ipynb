{
 "cells": [
  {
   "cell_type": "code",
   "execution_count": 1,
   "id": "5b370459-d5ea-41c6-9000-eb11321bf953",
   "metadata": {},
   "outputs": [],
   "source": [
    "import lightning as L\n",
    "\n",
    "from machine_annotators_training import LitMyModule, LitCIFAR10"
   ]
  },
  {
   "cell_type": "code",
   "execution_count": 2,
   "id": "7a5736d3-64d0-41e0-8c7d-2e1f46f518b8",
   "metadata": {},
   "outputs": [
    {
     "name": "stderr",
     "output_type": "stream",
     "text": [
      "/scratch/tri/venvs/pytorch12/lib/python3.8/site-packages/torchvision/transforms/v2/_deprecated.py:41: UserWarning: The transform `ToTensor()` is deprecated and will be removed in a future release. Instead, please use `v2.Compose([v2.ToImage(), v2.ToDtype(torch.float32, scale=True)])`.\n",
      "  warnings.warn(\n"
     ]
    }
   ],
   "source": [
    "data_module = LitCIFAR10(512)"
   ]
  },
  {
   "cell_type": "code",
   "execution_count": 3,
   "id": "81f9101a-293e-4de3-a023-8514c6f7e684",
   "metadata": {},
   "outputs": [
    {
     "name": "stderr",
     "output_type": "stream",
     "text": [
      "Trainer will use only 1 of 3 GPUs because it is running inside an interactive / notebook environment. You may try to set `Trainer(devices=3)` but please note that multi-GPU inside interactive / notebook environments is considered experimental and unstable. Your mileage may vary.\n",
      "GPU available: True (cuda), used: True\n",
      "TPU available: False, using: 0 TPU cores\n",
      "IPU available: False, using: 0 IPUs\n",
      "HPU available: False, using: 0 HPUs\n",
      "/scratch/tri/venvs/pytorch12/lib/python3.8/site-packages/lightning/pytorch/trainer/connectors/logger_connector/logger_connector.py:75: Starting from v1.9.0, `tensorboardX` has been removed as a dependency of the `lightning.pytorch` package, due to potential conflicts with other packages in the ML ecosystem. For this reason, `logger=True` will use `CSVLogger` as the default logger, unless the `tensorboard` or `tensorboardX` packages are found. Please `pip install lightning[extra]` or one of them to enable TensorBoard support by default\n"
     ]
    }
   ],
   "source": [
    "trainer = L.Trainer()"
   ]
  },
  {
   "cell_type": "code",
   "execution_count": 4,
   "id": "f3c14e68-c636-4622-83a4-83296fdcdc36",
   "metadata": {},
   "outputs": [],
   "source": [
    "# my_module = LitMyModule(lr=1e-2, num_epochs=100, batch_size=512)\n",
    "# trainer.test(model=my_module, datamodule=data_module)"
   ]
  },
  {
   "cell_type": "code",
   "execution_count": 9,
   "id": "c8e80175-1428-416d-88e3-abb90fe57d41",
   "metadata": {},
   "outputs": [],
   "source": [
    "# checkpoint_path = f'/scratch/tri/shahana_outlier/lightning_saved_models/machine_annotator/sandy-sun-327/syn-epoch=29-global_step=0.ckpt' # 0.645\n",
    "# checkpoint_path = f'/scratch/tri/shahana_outlier/lightning_saved_models/machine_annotator/sandy-sun-327/syn-epoch=59-global_step=0.ckpt' # 0.741\n",
    "# checkpoint_path = f'/scratch/tri/shahana_outlier/lightning_saved_models/machine_annotator/sandy-sun-327/syn-epoch=99-global_step=0.ckpt' # 0.775\n",
    "# checkpoint_path = f'/scratch/tri/shahana_outlier/lightning_saved_models/machine_annotator/apricot-sun-326/syn-epoch=09-global_step=0.ckpt' #  0.840\n",
    "# checkpoint_path = f'/scratch/tri/shahana_outlier/lightning_saved_models/machine_annotator/apricot-sun-326/syn-epoch=19-global_step=0.ckpt' # 0.904\n",
    "# checkpoint_path = f'/scratch/tri/shahana_outlier/lightning_saved_models/machine_annotator/magic-pyramid-358/syn-epoch=09-global_step=0.ckpt' # 0.5487\n",
    "# checkpoint_path = f'/scratch/tri/shahana_outlier/lightning_saved_models/machine_annotator/sandy-sun-327/syn-epoch=09-global_step=0.ckpt' #  \n",
    "\n",
    "# checkpoint_path = f'/scratch/tri/shahana_outlier/lightning_saved_models/machine_annotator/divine-eon-489/syn-epoch=19-global_step=0.ckpt' #  \n",
    "# checkpoint_path = f'/scratch/tri/shahana_outlier/lightning_saved_models/machine_annotator/stoic-glade-490/syn-epoch=19-global_step=0.ckpt' #  \n",
    "\n",
    "# The followings could potentially work \n",
    "# checkpoint_path = f'/scratch/tri/shahana_outlier/lightning_saved_models/machine_annotator/glorious-breeze-526/syn-epoch=19-global_step=0.ckpt' #  0.67\n",
    "# checkpoint_path = f'/scratch/tri/shahana_outlier/lightning_saved_models/machine_annotator/swift-dew-527/syn-epoch=19-global_step=0.ckpt' #  0.702\n",
    "checkpoint_path = f'/scratch/tri/shahana_outlier/lightning_saved_models/machine_annotator/serene-wind-528/syn-epoch=19-global_step=0.ckpt' # 0.666\n",
    "\n",
    "my_module = LitMyModule.load_from_checkpoint(checkpoint_path, lr=1e-2, num_epochs=100, batch_size=512)"
   ]
  },
  {
   "cell_type": "code",
   "execution_count": 10,
   "id": "771d2f09-ae6b-4c8c-897a-72cbe590519d",
   "metadata": {},
   "outputs": [
    {
     "name": "stderr",
     "output_type": "stream",
     "text": [
      "LOCAL_RANK: 0 - CUDA_VISIBLE_DEVICES: [0,1,2]\n"
     ]
    },
    {
     "name": "stdout",
     "output_type": "stream",
     "text": [
      "test size: 50000\n",
      "Done SETTING data module for CIFAR10!\n",
      "Testing DataLoader 0: 100%|███████████████████| 98/98 [00:11<00:00,  8.26it/s]\n",
      "────────────────────────────────────────────────────────────────────────────────────────────────────────────────────────\n",
      "       Test metric             DataLoader 0\n",
      "────────────────────────────────────────────────────────────────────────────────────────────────────────────────────────\n",
      "        test/acc             0.666379988193512\n",
      "────────────────────────────────────────────────────────────────────────────────────────────────────────────────────────\n"
     ]
    },
    {
     "data": {
      "text/plain": [
       "[{'test/acc': 0.666379988193512}]"
      ]
     },
     "execution_count": 10,
     "metadata": {},
     "output_type": "execute_result"
    }
   ],
   "source": [
    "trainer.test(model=my_module, datamodule=data_module)"
   ]
  },
  {
   "cell_type": "code",
   "execution_count": null,
   "id": "3875b895-3109-4242-a6bd-afbfb3a4b3d6",
   "metadata": {},
   "outputs": [],
   "source": []
  }
 ],
 "metadata": {
  "kernelspec": {
   "display_name": "Python 3 (ipykernel)",
   "language": "python",
   "name": "python3"
  },
  "language_info": {
   "codemirror_mode": {
    "name": "ipython",
    "version": 3
   },
   "file_extension": ".py",
   "mimetype": "text/x-python",
   "name": "python",
   "nbconvert_exporter": "python",
   "pygments_lexer": "ipython3",
   "version": "3.8.16"
  }
 },
 "nbformat": 4,
 "nbformat_minor": 5
}
